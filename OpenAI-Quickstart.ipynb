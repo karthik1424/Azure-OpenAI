To use OpenAI language model API, you would need to set up an API client and make API calls to interact with the model. 
Below, I’ll provide a generic outline of how you can use the OpenAI API in Python and REST API.

**REST API**

Running a Curl Request in Git Bash or WSL on Your VCSE Machine

If you need to execute a curl request within your VCSE environment using Git Bash or Windows Subsystem for Linux (WSL), follow these steps:

Access the Terminal: Open your Git Bash or WSL terminal on the VCSE machine.

Execute the Curl Request: Copy and paste the curl request provided into the terminal, then press Enter to initiate the request.

**cURL Request**

### *Embeddings*

curl "$AZURE_OPENAI_ENDPOINT/openai/deployments/DEPLOYMENT_NAME/embeddings?api-version=2023-05-15&api-key=$AZURE_OPENAI_KEY" -H 'Content-Type: application/json' -d '{"model": "text-embedding-ada-002","input": "The food was delicious and the waiter..."}'

